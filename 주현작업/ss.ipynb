{
 "cells": [
  {
   "cell_type": "markdown",
   "metadata": {},
   "source": [
    "dddddddddddd"
   ]
  },
  {
   "cell_type": "markdown",
   "metadata": {},
   "source": [
    "sssssssssssssssss\n",
    "sssssssssss\n",
    "s\n",
    "s\n",
    "s\n",
    "s\n",
    "ss\n",
    "s\n"
   ]
  },
  {
   "cell_type": "markdown",
   "metadata": {},
   "source": []
  }
 ],
 "metadata": {
  "language_info": {
   "name": "python"
  }
 },
 "nbformat": 4,
 "nbformat_minor": 2
}
